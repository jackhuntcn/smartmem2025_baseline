{
 "cells": [
  {
   "cell_type": "code",
   "execution_count": 1,
   "id": "19a315e0",
   "metadata": {},
   "outputs": [],
   "source": [
    "import warnings\n",
    "warnings.simplefilter('ignore')\n",
    "\n",
    "import os\n",
    "import re\n",
    "import gc\n",
    "import glob\n",
    "from multiprocessing import Pool\n",
    "\n",
    "import numpy as np\n",
    "import pandas as pd\n",
    "pd.set_option('display.max_columns', None)\n",
    "pd.set_option('display.max_rows', 100)\n",
    "from tqdm import tqdm"
   ]
  },
  {
   "cell_type": "code",
   "execution_count": 2,
   "id": "21c6c4ad",
   "metadata": {},
   "outputs": [],
   "source": [
    "DATA_SUFFIX = 'feather'\n",
    "INTERVAL = 3600  # 聚合窗口大小 3600s\n",
    "USECOLS = ['LogTime', 'deviceID','ChannelId', 'DimmId', 'BankId', 'ColumnId', 'RowId', \n",
    "           'MciAddr', 'RetryRdErrLog', 'RetryRdErrLogParity', 'error_type_full_name']\n",
    "DATA_PATH = './data'\n",
    "FEATURE_PATH = './feature'\n",
    "WORKER_NUM = 64"
   ]
  },
  {
   "cell_type": "code",
   "execution_count": 3,
   "id": "06af222b",
   "metadata": {},
   "outputs": [],
   "source": [
    "os.makedirs(f'{FEATURE_PATH}/type_A', exist_ok=True)\n",
    "os.makedirs(f'{FEATURE_PATH}/type_B', exist_ok=True)"
   ]
  },
  {
   "cell_type": "code",
   "execution_count": 4,
   "id": "305dfc95",
   "metadata": {},
   "outputs": [],
   "source": [
    "def window_gather_feathers(sn_file):\n",
    "    # 读取数据\n",
    "    df = pd.read_feather(sn_file)\n",
    "    # 排除无关原始特征\n",
    "    df = df[USECOLS]\n",
    "    # 缺失值填充\n",
    "    df['deviceID'] = df['deviceID'].fillna(-1).astype(int)\n",
    "    df['RetryRdErrLogParity'] = df['RetryRdErrLogParity'].fillna(0).replace(\"\", 0).astype(np.int64)\n",
    "    # 按时间排序\n",
    "    df = df.sort_values(['LogTime'], ascending=True).reset_index(drop=True)\n",
    "    \n",
    "    # 按时间划分聚合窗口\n",
    "    df['time_index'] = df['LogTime'] // INTERVAL\n",
    "    \n",
    "    # 报错位置\n",
    "    df['locale'] = df['ChannelId'].astype(str) + '_' + df['DimmId'].astype(str) + '_' +\\\n",
    "                   df['BankId'].astype(str) + '_' + df['RowId'].astype(str) + '_' + df['ColumnId'].astype(str)\n",
    "    df['CellId'] = df['RowId'].astype(str) + '_' + df['ColumnId'].astype(str)\n",
    "    \n",
    "    # 日志类型\n",
    "    df['error_type_CE.READ'] = (df['error_type_full_name'] == 'CE.READ').astype(int)\n",
    "    df['error_type_CE.SCRUB'] = (df['error_type_full_name'] == 'CE.SCRUB').astype(int)\n",
    "    \n",
    "    # bit_dq_burst 特征 (抄自官方 baseline)\n",
    "    df['bin_parity'] = df['RetryRdErrLogParity'].apply(lambda x: bin(x)[2:].zfill(32))\n",
    "    df['bin_count'] = df['bin_parity'].apply(lambda x: x.count(\"1\"))\n",
    "    df['binary_row_array'] = df['bin_parity'].apply(lambda x: [x[i:i+4].count(\"1\") for i in range(0,32,4)])\n",
    "    df['binary_row_array_indices'] = df['binary_row_array'].apply(lambda x: [idx for idx, value in enumerate(x) if value > 0])\n",
    "    df['burst_count'] = df['binary_row_array_indices'].apply(len)\n",
    "    df['max_burst_interval'] = df['binary_row_array_indices'].apply(lambda x: x[-1] - x[0] if x else 0)\n",
    "    df['binary_column_array'] = df['bin_parity'].apply(lambda x: [x[i::4].count(\"1\") for i in range(4)])\n",
    "    df['binary_column_array_indices'] = df['binary_column_array'].apply(lambda x: [idx for idx, value in enumerate(x)if value > 0])\n",
    "    df['dq_count'] = df['binary_column_array_indices'].apply(len)\n",
    "    df['max_dq_interval'] = df['binary_column_array_indices'].apply(lambda x: x[-1] - x[0] if x else 0)\n",
    "    \n",
    "    # 每个 window 里面的最后一个时间作为 LogTime 记录\n",
    "    df_ret = df.groupby('time_index')['LogTime'].last().to_frame().reset_index()\n",
    "    \n",
    "    # 统计特征\n",
    "    mapping = df.groupby(['time_index'])['LogTime'].count().to_dict()\n",
    "    df_ret['window_logs_count'] = df_ret['time_index'].map(mapping)\n",
    "    mapping = df.groupby(['time_index'])['error_type_CE.READ'].sum().to_dict()\n",
    "    df_ret['window_read_error_logs_count'] = df_ret['time_index'].map(mapping)\n",
    "    mapping = df.groupby(['time_index'])['error_type_CE.SCRUB'].sum().to_dict()\n",
    "    df_ret['window_scrub_error_logs_count'] = df_ret['time_index'].map(mapping)\n",
    "    mapping = df.groupby(['time_index'])['burst_count'].sum().to_dict()\n",
    "    df_ret['window_burst_count'] = df_ret['time_index'].map(mapping)\n",
    "    mapping = df.groupby(['time_index'])['dq_count'].sum().to_dict()\n",
    "    df_ret['window_dq_count'] = df_ret['time_index'].map(mapping)\n",
    "    mapping = df.groupby(['time_index'])['max_burst_interval'].max().to_dict()\n",
    "    df_ret['window_max_burst_interval'] = df_ret['time_index'].map(mapping)\n",
    "    mapping = df.groupby(['time_index'])['max_dq_interval'].sum().to_dict()\n",
    "    df_ret['window_max_dq_interval'] = df_ret['time_index'].map(mapping)\n",
    "\n",
    "    # 类别个数特征\n",
    "    for col in ['deviceID', 'ChannelId', 'BankId', 'DimmId', 'ColumnId', 'ColumnId', 'RowId', \n",
    "                'MciAddr', 'RetryRdErrLogParity', 'RetryRdErrLog', 'locale', 'CellId']:\n",
    "        mapping = df.groupby(['time_index'])[col].nunique().to_dict()\n",
    "        df_ret[f'window_{col}_nunique'] = df_ret['time_index'].map(mapping)\n",
    "\n",
    "    # 故障模式特征 (近似, 不如官方 baseline 严谨)\n",
    "    df_ret['fault_mode_others'] = df_ret['window_deviceID_nunique'].apply(lambda x: 1 if x > 1 else 0)\n",
    "    df_ret['fault_mode_device'] = df_ret.apply(\n",
    "        lambda row: 1 if row['fault_mode_others'] == 0 and row['window_BankId_nunique'] > 1 else 0, axis=1)\n",
    "    df_ret['fault_mode_bank'] = df_ret.apply(\n",
    "        lambda row: 1 if row['fault_mode_device'] == 0 and \\\n",
    "        (row['window_ColumnId_nunique'] > 1 or row['window_RowId_nunique'] > 1) else 0, axis=1)\n",
    "    df_ret['fault_mode_row'] = df_ret.apply(\n",
    "        lambda row: 1 if row['window_RowId_nunique'] == 1 and row['window_ColumnId_nunique'] > 1 else 0, axis=1)\n",
    "    df_ret['fault_mode_column'] = df_ret.apply(\n",
    "        lambda row: 1 if row['window_ColumnId_nunique'] == 1 and row['window_RowId_nunique'] > 1 else 0, axis=1)\n",
    "    df_ret['fault_mode_cell'] = df_ret['window_CellId_nunique'].apply(lambda x: 1 if x > 1 else 0)\n",
    "\n",
    "    # 变化特征\n",
    "    for col in ['LogTime', 'burst_count', 'dq_count']:\n",
    "        aggs = df.groupby(['time_index'])[col].agg(list).to_frame().reset_index()\n",
    "        aggs[f'window_{col}_diff'] = aggs[col].apply(np.diff)\n",
    "        aggs[f'window_{col}_diff_mean'] = aggs[f'window_{col}_diff'].apply(\n",
    "            lambda x: -1 if len(x) == 0 else np.mean(x))\n",
    "        aggs[f'window_{col}_diff_max'] = aggs[f'window_{col}_diff'].apply(\n",
    "            lambda x: -1 if len(x) == 0 else np.max(x))\n",
    "        aggs[f'window_{col}_diff_std'] = aggs[f'window_{col}_diff'].apply(\n",
    "            lambda x: -1 if len(x) == 0 else np.std(x))\n",
    "        aggs.drop([col, f'window_{col}_diff'], axis=1, inplace=True)\n",
    "        df_ret = df_ret.merge(aggs, on='time_index', how='left')\n",
    "        \n",
    "    save_path = sn_file.replace(DATA_PATH, FEATURE_PATH).replace(\"csv\", \"feather\")\n",
    "    df_ret.to_feather(save_path)"
   ]
  },
  {
   "cell_type": "code",
   "execution_count": 5,
   "id": "2c503ffd",
   "metadata": {},
   "outputs": [
    {
     "name": "stderr",
     "output_type": "stream",
     "text": [
      "Generating features: 100%|██████████████████████████████████████████████████████████████████████████████████████| 62224/62224 [20:47<00:00, 49.87it/s]\n"
     ]
    }
   ],
   "source": [
    "sn_files = glob.glob(f'{DATA_PATH}/type_[AB]/*.{DATA_SUFFIX}')\n",
    "sn_files.sort()\n",
    "with Pool(WORKER_NUM) as pool:\n",
    "    list(\n",
    "        tqdm(\n",
    "            pool.imap(window_gather_feathers, sn_files),\n",
    "            total=len(sn_files),\n",
    "            desc=\"Generating features\",\n",
    "        )\n",
    "    )"
   ]
  },
  {
   "cell_type": "code",
   "execution_count": null,
   "id": "fadbb5df",
   "metadata": {},
   "outputs": [],
   "source": []
  }
 ],
 "metadata": {
  "kernelspec": {
   "display_name": "Python 3 (ipykernel)",
   "language": "python",
   "name": "python3"
  },
  "language_info": {
   "codemirror_mode": {
    "name": "ipython",
    "version": 3
   },
   "file_extension": ".py",
   "mimetype": "text/x-python",
   "name": "python",
   "nbconvert_exporter": "python",
   "pygments_lexer": "ipython3",
   "version": "3.10.9"
  }
 },
 "nbformat": 4,
 "nbformat_minor": 5
}
